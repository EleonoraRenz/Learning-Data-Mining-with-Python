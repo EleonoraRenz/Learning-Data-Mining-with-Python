{
 "cells": [
  {
   "cell_type": "markdown",
   "metadata": {},
   "source": [
    "# Data Mining CS 619, Spring 2018 - Eleonora Renz\n",
    "### Week 1 - Chapter 1\n",
    "\n",
    "## Affinity Analysis\n",
    "\n",
    "#### Loading the dataset with NumPy"
   ]
  },
  {
   "cell_type": "code",
   "execution_count": 1,
   "metadata": {
    "collapsed": true
   },
   "outputs": [],
   "source": [
    "import numpy as np\n",
    "\n",
    "# Load the data\n",
    "dataset_filename = \"affinity_dataset.txt\"\n",
    "x = np.loadtxt(\"Data/\"+dataset_filename)"
   ]
  },
  {
   "cell_type": "code",
   "execution_count": 2,
   "metadata": {
    "collapsed": true
   },
   "outputs": [],
   "source": [
    "n_samples, n_features = x.shape # Tuple of array dimensions"
   ]
  },
  {
   "cell_type": "code",
   "execution_count": 3,
   "metadata": {},
   "outputs": [
    {
     "name": "stdout",
     "output_type": "stream",
     "text": [
      "[[ 0.  1.  0.  0.  0.]\n",
      " [ 1.  1.  0.  0.  0.]\n",
      " [ 0.  0.  1.  0.  1.]\n",
      " [ 1.  1.  0.  0.  0.]\n",
      " [ 0.  0.  1.  1.  1.]]\n"
     ]
    }
   ],
   "source": [
    "# First glimps on the data\n",
    "print(x[:5])"
   ]
  },
  {
   "cell_type": "code",
   "execution_count": 4,
   "metadata": {
    "collapsed": true
   },
   "outputs": [],
   "source": [
    "# List with feature names\n",
    "features = [\"bread\", \"milk\", \"cheese\", \"apples\", \"bananas\"]"
   ]
  },
  {
   "cell_type": "markdown",
   "metadata": {},
   "source": [
    "#### Implementing a simple ranking of rules\n",
    "\n",
    "##### Quick Book Defintions:\n",
    "<b>Support</b> is the number of times that a rule occurs in a dataset, which is computed by simply counting the\n",
    "number of samples for which the rule is valid. It can sometimes be normalized by dividing by the total\n",
    "number of times the premise of the rule is valid, but we will simply count the total for this\n",
    "implementation.<br>\n",
    "The <b>premise</b> is the requirements for a rule to be considered active.<br>\n",
    "The <b>conclusion</b> is the\n",
    "output of the rule. For the example if a person buys an apple, they also buy a banana, the\n",
    "rule is only valid if the premise happens - a person buys an apple. The rule's conclusion\n",
    "then states that the person will buy a banana. <br>\n",
    "While the support measures how often a rule exists, <b>confidence</b> measures how accurate they are when they\n",
    "can be used. You can compute this by determining the percentage of times the rule applies when the\n",
    "premise applies. We first count how many times a rule applies to our data and divide it by the number of\n",
    "samples where the premise (the if statement) occurs."
   ]
  },
  {
   "cell_type": "code",
   "execution_count": 5,
   "metadata": {
    "collapsed": true
   },
   "outputs": [],
   "source": [
    "from collections import defaultdict\n",
    "\n",
    "# Create dicts to store results\n",
    "valid_rules = defaultdict(int)\n",
    "invalid_rules = defaultdict(int)\n",
    "num_occurences = defaultdict(int)\n",
    "\n",
    "# Map the relationship premise to conclusion\n",
    "for sample in x:\n",
    "    for premise in range(n_features):\n",
    "        if sample[premise] == 0: continue\n",
    "        # Record that the premise was bought in another transaction \n",
    "        num_occurences[premise] += 1\n",
    "        for conclusion in range(n_features):\n",
    "            if premise == conclusion:\n",
    "                # It makes little sense to measure if  x -> x.\n",
    "                continue\n",
    "            if sample[conclusion] == 1:\n",
    "                # This person also bought the conclusion item\n",
    "                valid_rules[(premise, conclusion)] += 1\n",
    "            "
   ]
  },
  {
   "cell_type": "code",
   "execution_count": 6,
   "metadata": {
    "collapsed": true
   },
   "outputs": [],
   "source": [
    "# Calculate support \n",
    "support = valid_rules\n",
    "\n",
    "# Calculate confidence \n",
    "confidence = defaultdict(float)\n",
    "for premise, conclusion in valid_rules.keys():\n",
    "    rule = (premise, conclusion)\n",
    "    confidence[rule] = valid_rules[rule] / num_occurences [premise]"
   ]
  },
  {
   "cell_type": "code",
   "execution_count": 7,
   "metadata": {},
   "outputs": [
    {
     "name": "stdout",
     "output_type": "stream",
     "text": [
      "Rule: If a person buys bread they will also buy milk\n",
      " - Confidence: 0.464\n",
      " - Support: 13\n",
      "\n",
      "Rule: If a person buys milk they will also buy bread\n",
      " - Confidence: 0.250\n",
      " - Support: 13\n",
      "\n",
      "Rule: If a person buys cheese they will also buy bananas\n",
      " - Confidence: 0.513\n",
      " - Support: 20\n",
      "\n",
      "Rule: If a person buys bananas they will also buy cheese\n",
      " - Confidence: 0.351\n",
      " - Support: 20\n",
      "\n",
      "Rule: If a person buys cheese they will also buy apples\n",
      " - Confidence: 0.564\n",
      " - Support: 22\n",
      "\n",
      "Rule: If a person buys apples they will also buy cheese\n",
      " - Confidence: 0.512\n",
      " - Support: 22\n",
      "\n",
      "Rule: If a person buys apples they will also buy bananas\n",
      " - Confidence: 0.628\n",
      " - Support: 27\n",
      "\n",
      "Rule: If a person buys bananas they will also buy apples\n",
      " - Confidence: 0.474\n",
      " - Support: 27\n",
      "\n",
      "Rule: If a person buys milk they will also buy apples\n",
      " - Confidence: 0.346\n",
      " - Support: 18\n",
      "\n",
      "Rule: If a person buys apples they will also buy milk\n",
      " - Confidence: 0.419\n",
      " - Support: 18\n",
      "\n",
      "Rule: If a person buys milk they will also buy bananas\n",
      " - Confidence: 0.519\n",
      " - Support: 27\n",
      "\n",
      "Rule: If a person buys bananas they will also buy milk\n",
      " - Confidence: 0.474\n",
      " - Support: 27\n",
      "\n",
      "Rule: If a person buys bread they will also buy cheese\n",
      " - Confidence: 0.179\n",
      " - Support: 5\n",
      "\n",
      "Rule: If a person buys cheese they will also buy bread\n",
      " - Confidence: 0.128\n",
      " - Support: 5\n",
      "\n",
      "Rule: If a person buys bread they will also buy bananas\n",
      " - Confidence: 0.571\n",
      " - Support: 16\n",
      "\n",
      "Rule: If a person buys bananas they will also buy bread\n",
      " - Confidence: 0.281\n",
      " - Support: 16\n",
      "\n",
      "Rule: If a person buys milk they will also buy cheese\n",
      " - Confidence: 0.212\n",
      " - Support: 11\n",
      "\n",
      "Rule: If a person buys cheese they will also buy milk\n",
      " - Confidence: 0.282\n",
      " - Support: 11\n",
      "\n",
      "Rule: If a person buys bread they will also buy apples\n",
      " - Confidence: 0.321\n",
      " - Support: 9\n",
      "\n",
      "Rule: If a person buys apples they will also buy bread\n",
      " - Confidence: 0.209\n",
      " - Support: 9\n",
      "\n"
     ]
    }
   ],
   "source": [
    "# Function for readable rule format\n",
    "for premise, conclusion in confidence:\n",
    "    premise_name = features[premise]\n",
    "    conclusion_name = features[conclusion]\n",
    "    print(\"Rule: If a person buys {0} they will also buy {1}\".format(premise_name, conclusion_name))\n",
    "    print(\" - Confidence: {0:.3f}\".format \n",
    "          (confidence[(premise, conclusion)]))\n",
    "    print(\" - Support: {0}\".format(support[(premise, conclusion)]))\n",
    "    print(\"\")"
   ]
  },
  {
   "cell_type": "code",
   "execution_count": 8,
   "metadata": {},
   "outputs": [
    {
     "name": "stdout",
     "output_type": "stream",
     "text": [
      "Rule: If a person buys bread they will also buy milk\n",
      " - Confidence: 0.464\n",
      " - Support: 13\n",
      "\n",
      "Rule: If a person buys milk they will also buy bread\n",
      " - Confidence: 0.250\n",
      " - Support: 13\n",
      "\n",
      "Rule: If a person buys cheese they will also buy bananas\n",
      " - Confidence: 0.513\n",
      " - Support: 20\n",
      "\n",
      "Rule: If a person buys bananas they will also buy cheese\n",
      " - Confidence: 0.351\n",
      " - Support: 20\n",
      "\n",
      "Rule: If a person buys cheese they will also buy apples\n",
      " - Confidence: 0.564\n",
      " - Support: 22\n",
      "\n",
      "Rule: If a person buys apples they will also buy cheese\n",
      " - Confidence: 0.512\n",
      " - Support: 22\n",
      "\n",
      "Rule: If a person buys apples they will also buy bananas\n",
      " - Confidence: 0.628\n",
      " - Support: 27\n",
      "\n",
      "Rule: If a person buys bananas they will also buy apples\n",
      " - Confidence: 0.474\n",
      " - Support: 27\n",
      "\n",
      "Rule: If a person buys milk they will also buy apples\n",
      " - Confidence: 0.346\n",
      " - Support: 18\n",
      "\n",
      "Rule: If a person buys apples they will also buy milk\n",
      " - Confidence: 0.419\n",
      " - Support: 18\n",
      "\n",
      "Rule: If a person buys milk they will also buy bananas\n",
      " - Confidence: 0.519\n",
      " - Support: 27\n",
      "\n",
      "Rule: If a person buys bananas they will also buy milk\n",
      " - Confidence: 0.474\n",
      " - Support: 27\n",
      "\n",
      "Rule: If a person buys bread they will also buy cheese\n",
      " - Confidence: 0.179\n",
      " - Support: 5\n",
      "\n",
      "Rule: If a person buys cheese they will also buy bread\n",
      " - Confidence: 0.128\n",
      " - Support: 5\n",
      "\n",
      "Rule: If a person buys bread they will also buy bananas\n",
      " - Confidence: 0.571\n",
      " - Support: 16\n",
      "\n",
      "Rule: If a person buys bananas they will also buy bread\n",
      " - Confidence: 0.281\n",
      " - Support: 16\n",
      "\n",
      "Rule: If a person buys milk they will also buy cheese\n",
      " - Confidence: 0.212\n",
      " - Support: 11\n",
      "\n",
      "Rule: If a person buys cheese they will also buy milk\n",
      " - Confidence: 0.282\n",
      " - Support: 11\n",
      "\n",
      "Rule: If a person buys bread they will also buy apples\n",
      " - Confidence: 0.321\n",
      " - Support: 9\n",
      "\n",
      "Rule: If a person buys apples they will also buy bread\n",
      " - Confidence: 0.209\n",
      " - Support: 9\n",
      "\n"
     ]
    }
   ],
   "source": [
    "for premise, conclusion in confidence:\n",
    "    premise_name = features[premise]\n",
    "    conclusion_name = features[conclusion]\n",
    "    print(\"Rule: If a person buys {0} they will also buy {1}\".format(premise_name, conclusion_name))\n",
    "    print(\" - Confidence: {0:.3f}\".format\n",
    "         (confidence[(premise,conclusion)]))\n",
    "    print(\" - Support: {0}\".format(support\n",
    "                                [(premise, conclusion)]))\n",
    "    print(\"\")"
   ]
  },
  {
   "cell_type": "markdown",
   "metadata": {},
   "source": [
    "#### Ranking to find the best rules"
   ]
  },
  {
   "cell_type": "code",
   "execution_count": 9,
   "metadata": {
    "collapsed": true
   },
   "outputs": [],
   "source": [
    "from operator import itemgetter\n",
    "\n",
    "# Sort rules by support\n",
    "sorted_support = sorted(support.items(), key=itemgetter(1), reverse=True)"
   ]
  },
  {
   "cell_type": "code",
   "execution_count": 10,
   "metadata": {
    "collapsed": true
   },
   "outputs": [],
   "source": [
    "# Function based on the result format shown in the book \n",
    "#    -> this function is missing in the book, but is used\n",
    "def print_rule(premise, conclusion, support, confidence, features):\n",
    "    premise_name = features[premise]\n",
    "    conclusion_name = features[conclusion]\n",
    "    print(\"Rule: If a person buys {0} they will also buy {1}\".format(premise_name, conclusion_name))\n",
    "    print(\" - Support: {0}\".format(support[(premise, conclusion)]))\n",
    "    print(\" - Confidence: {0:.3f}\".format(confidence[(premise, conclusion)]))\n",
    "    print(\"\")"
   ]
  },
  {
   "cell_type": "code",
   "execution_count": 11,
   "metadata": {},
   "outputs": [
    {
     "name": "stdout",
     "output_type": "stream",
     "text": [
      "Rule #1\n",
      "Rule: If a person buys apples they will also buy bananas\n",
      " - Support: 27\n",
      " - Confidence: 0.628\n",
      "\n",
      "Rule #2\n",
      "Rule: If a person buys bananas they will also buy apples\n",
      " - Support: 27\n",
      " - Confidence: 0.474\n",
      "\n",
      "Rule #3\n",
      "Rule: If a person buys milk they will also buy bananas\n",
      " - Support: 27\n",
      " - Confidence: 0.519\n",
      "\n",
      "Rule #4\n",
      "Rule: If a person buys bananas they will also buy milk\n",
      " - Support: 27\n",
      " - Confidence: 0.474\n",
      "\n",
      "Rule #5\n",
      "Rule: If a person buys cheese they will also buy apples\n",
      " - Support: 22\n",
      " - Confidence: 0.564\n",
      "\n"
     ]
    }
   ],
   "source": [
    "# Print out top 5 rules based on value/support\n",
    "sorted_support = sorted(support.items(), key=itemgetter(1), reverse=True)\n",
    "\n",
    "for index in range(5):\n",
    "    print(\"Rule #{0}\".format(index + 1))\n",
    "    premise, conclusion = sorted_support[index][0]\n",
    "    print_rule(premise, conclusion, support, confidence, features)"
   ]
  },
  {
   "cell_type": "code",
   "execution_count": 12,
   "metadata": {
    "scrolled": false
   },
   "outputs": [
    {
     "name": "stdout",
     "output_type": "stream",
     "text": [
      "Rule #1\n",
      "Rule: If a person buys apples they will also buy bananas\n",
      " - Support: 27\n",
      " - Confidence: 0.628\n",
      "\n",
      "Rule #2\n",
      "Rule: If a person buys bread they will also buy bananas\n",
      " - Support: 16\n",
      " - Confidence: 0.571\n",
      "\n",
      "Rule #3\n",
      "Rule: If a person buys cheese they will also buy apples\n",
      " - Support: 22\n",
      " - Confidence: 0.564\n",
      "\n",
      "Rule #4\n",
      "Rule: If a person buys milk they will also buy bananas\n",
      " - Support: 27\n",
      " - Confidence: 0.519\n",
      "\n",
      "Rule #5\n",
      "Rule: If a person buys cheese they will also buy bananas\n",
      " - Support: 20\n",
      " - Confidence: 0.513\n",
      "\n"
     ]
    }
   ],
   "source": [
    "# Top five rules based on confidence\n",
    "sorted_confidence = sorted(confidence.items(), key=itemgetter(1), reverse=True)\n",
    "\n",
    "for index in range(5):\n",
    "    print(\"Rule #{0}\".format(index + 1))\n",
    "    premise, conclusion = sorted_confidence[index][0]\n",
    "    print_rule(premise, conclusion, support, confidence, features)"
   ]
  },
  {
   "cell_type": "code",
   "execution_count": 13,
   "metadata": {},
   "outputs": [
    {
     "data": {
      "text/plain": [
       "[<matplotlib.lines.Line2D at 0x19e29e19d68>]"
      ]
     },
     "execution_count": 13,
     "metadata": {},
     "output_type": "execute_result"
    },
    {
     "data": {
      "image/png": "[encoded data removed]",
      "text/plain": [
       "<matplotlib.figure.Figure at 0x19e2911d1d0>"
      ]
     },
     "metadata": {},
     "output_type": "display_data"
    }
   ],
   "source": [
    "from matplotlib import pyplot as plt\n",
    "%matplotlib inline\n",
    "\n",
    "# Plot the confidence\n",
    "plt.plot([confidence[rule[0]] for rule in sorted_confidence])"
   ]
  },
  {
   "cell_type": "markdown",
   "metadata": {
    "collapsed": true
   },
   "source": [
    "## Classification\n",
    "\n",
    "#### Loading and preparing the dataset"
   ]
  },
  {
   "cell_type": "code",
   "execution_count": 14,
   "metadata": {
    "collapsed": true
   },
   "outputs": [],
   "source": [
    "from sklearn.datasets import load_iris\n",
    "import numpy as np\n",
    "\n",
    "# Load the data\n",
    "dataset = load_iris()\n",
    "\n",
    "# Assign data and target\n",
    "x = dataset.data\n",
    "y = dataset.target\n",
    "\n",
    "n_samples, n_features = x.shape\n",
    "#print(dataset.DESCR)"
   ]
  },
  {
   "cell_type": "markdown",
   "metadata": {},
   "source": [
    "##### Quick Book Definitions:\n",
    "\n",
    "The goal of <b>classification</b> applications is to train a model on a set of samples with known classes and then apply that model to new unseen samples with unknown classes.\n",
    "<br>\n",
    "<b>Discretization:</b> Turning a continuous feature into a categorical feature"
   ]
  },
  {
   "cell_type": "code",
   "execution_count": 15,
   "metadata": {
    "collapsed": true
   },
   "outputs": [],
   "source": [
    "# Discretizis the attributes by using the mean as a threshold\n",
    "attribute_means = x.mean(axis=0)\n",
    "\n",
    "assert attribute_means.shape == (n_features,)\n",
    "x_d = np.array(x >= attribute_means,dtype='int')"
   ]
  },
  {
   "cell_type": "markdown",
   "metadata": {
    "collapsed": true
   },
   "source": [
    "### Implementing the OneR algorithm"
   ]
  },
  {
   "cell_type": "markdown",
   "metadata": {},
   "source": [
    "##### Quick Book Definitions:\n",
    "<b>OneR</b> is a simple algorithm that simply predicts the class of a sample by finding the most\n",
    "frequent class for the feature values. OneR is shorthand for One Rule, indicating we only\n",
    "use a single rule for this classification by choosing the feature with the best performance."
   ]
  },
  {
   "cell_type": "code",
   "execution_count": 16,
   "metadata": {
    "collapsed": true
   },
   "outputs": [],
   "source": [
    "def train_feature_value(x, y_true, feature, value):\n",
    "    \"\"\" Function to count each time a feature value corresponds to a specific class.\n",
    "        Returns the most frequent class and error \"\"\"\n",
    "    # Create a simple dictionary to count how frequently they give certain predictions\n",
    "    class_counts = defaultdict(int)\n",
    "    # Iterate through each sample and count the frequency of each class/value pair\n",
    "    for sample, y in zip(x, y_true):\n",
    "        if sample[feature] == value:\n",
    "            class_counts[y] += 1\n",
    "            \n",
    "    # Now get the best one by sorting (highest first) and choosing the first item\n",
    "    sorted_class_counts = sorted(class_counts.items(), key=itemgetter(1), reverse=True)\n",
    "    most_frequent_class = sorted_class_counts[0][0]\n",
    "    # The error is the number of samples that do not classify as the most frequent class\n",
    "    # and have the frequent value\n",
    "    n_samples = x.shape[1]\n",
    "    error = sum([class_count for class_value, class_count in class_counts.items()\n",
    "                 if class_value != most_frequent_class])\n",
    "    return most_frequent_class, error"
   ]
  },
  {
   "cell_type": "code",
   "execution_count": 17,
   "metadata": {
    "collapsed": true
   },
   "outputs": [],
   "source": [
    "def train(x, y_true, feature):\n",
    "    \"\"\" Function to find the most accurate feature value to use \n",
    "        for the specific feature as the OneR \"\"\"\n",
    "    # Check that variable is a valid number\n",
    "    n_samples, n_features = x.shape\n",
    "    assert 0 <= feature < n_features\n",
    "    # Get all of the unique values that this variable has \n",
    "    values = set(x[:,feature])\n",
    "    # Stores the predictors array that is returned \n",
    "    predictors = dict()\n",
    "    errors = []\n",
    "    \n",
    "    for current_value in values:\n",
    "        most_frequent_class, error = train_feature_value(x, y_true, feature, current_value)\n",
    "        predictors[current_value] = most_frequent_class\n",
    "        errors.append(error)\n",
    "    # Compute the total error of using this feature to classify on\n",
    "    total_error = sum(errors)\n",
    "    return predictors, total_error"
   ]
  },
  {
   "cell_type": "markdown",
   "metadata": {},
   "source": [
    "#### Testing the algorithm"
   ]
  },
  {
   "cell_type": "code",
   "execution_count": 18,
   "metadata": {
    "collapsed": true
   },
   "outputs": [],
   "source": [
    "# Since the sklearn.cross_validation module was deprecated in version 0.18 the model_selection module is used\n",
    "from sklearn.model_selection import train_test_split\n",
    "\n",
    "xd_train, xd_test, y_train, y_test = train_test_split(x_d, y, random_state=14)"
   ]
  },
  {
   "cell_type": "code",
   "execution_count": 19,
   "metadata": {
    "collapsed": true,
    "scrolled": true
   },
   "outputs": [],
   "source": [
    "#from IPython.core.debugger import Tracer; Tracer()()\n",
    "# Compute the predictors for all the features \n",
    "all_predictors = {}\n",
    "errors = {}\n",
    "for feature_index in range(xd_train.shape[1]):\n",
    "    predictors, total_error = train(xd_train, y_train, feature_index)\n",
    "    all_predictors[feature_index] = predictors\n",
    "    errors[feature_index] = total_error\n",
    "    \n",
    "# Find feature with lowest error -> oneR\n",
    "best_feature, best_error = sorted(errors.items(), key=itemgetter(1))[0]\n",
    "\n",
    "# Create model by storing the predictors for the best feature\n",
    "model = {'feature': best_feature,\n",
    "        'predictor': all_predictors[best_feature]}\n",
    "\n",
    "# variable = model['feature']\n",
    "# predictor = model['predictor']\n",
    "# prediction = predictor[int(sample[variable])]"
   ]
  },
  {
   "cell_type": "code",
   "execution_count": 20,
   "metadata": {
    "collapsed": true
   },
   "outputs": [],
   "source": [
    "def predict(x_test, model):\n",
    "    \"\"\" Function to predict several new samples at one time \"\"\"\n",
    "    variable = model['feature']\n",
    "    predictor = model['predictor']\n",
    "    y_predicted = np.array([predictor[int(sample[variable])] for sample in x_test])\n",
    "    return y_predicted"
   ]
  },
  {
   "cell_type": "code",
   "execution_count": 21,
   "metadata": {
    "scrolled": false
   },
   "outputs": [
    {
     "name": "stdout",
     "output_type": "stream",
     "text": [
      "The test accuracy is 65.8%\n"
     ]
    }
   ],
   "source": [
    "y_predicted = predict(xd_test, model)\n",
    "\n",
    "accuracy = np.mean(y_predicted == y_test) * 100\n",
    "print(\"The test accuracy is {:.1f}%\".format(accuracy))"
   ]
  }
 ],
 "metadata": {
  "kernelspec": {
   "display_name": "Python 3",
   "language": "python",
   "name": "python3"
  },
  "language_info": {
   "codemirror_mode": {
    "name": "ipython",
    "version": 3
   },
   "file_extension": ".py",
   "mimetype": "text/x-python",
   "name": "python",
   "nbconvert_exporter": "python",
   "pygments_lexer": "ipython3",
   "version": "3.6.3"
  }
 },
 "nbformat": 4,
 "nbformat_minor": 2
}

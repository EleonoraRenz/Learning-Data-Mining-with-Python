{
 "cells": [
  {
   "cell_type": "markdown",
   "metadata": {},
   "source": [
    "## Classification\n",
    "\n",
    "#### Loading and preparing the dataset"
   ]
  },
  {
   "cell_type": "code",
   "execution_count": 1,
   "metadata": {},
   "outputs": [],
   "source": [
    "from sklearn.datasets import load_iris\n",
    "import numpy as np\n",
    "\n",
    "# Load the data\n",
    "dataset = load_iris()\n",
    "\n",
    "# Assign data and target\n",
    "x = dataset.data\n",
    "y = dataset.target\n",
    "\n",
    "n_samples, n_features = x.shape\n",
    "#print(dataset.DESCR)"
   ]
  },
  {
   "cell_type": "code",
   "execution_count": 2,
   "metadata": {
    "collapsed": true
   },
   "outputs": [],
   "source": [
    "# Discretizis the attributes by using the mean as a threshold\n",
    "attribute_means = x.mean(axis=0)"
   ]
  },
  {
   "cell_type": "code",
   "execution_count": 3,
   "metadata": {},
   "outputs": [],
   "source": [
    "assert attribute_means.shape == (n_features,)\n",
    "x_d = np.array(x >= attribute_means,dtype='int')"
   ]
  },
  {
   "cell_type": "markdown",
   "metadata": {},
   "source": [
    "### Implementing the OneR algorithm"
   ]
  },
  {
   "cell_type": "markdown",
   "metadata": {},
   "source": [
    "##### Quick Book Definitions:\n",
    "<b>OneR</b> is a simple algorithm that simply predicts the class of a sample by finding the most\n",
    "frequent class for the feature values. OneR is shorthand for One Rule, indicating we only\n",
    "use a single rule for this classification by choosing the feature with the best performance."
   ]
  },
  {
   "cell_type": "code",
   "execution_count": 4,
   "metadata": {
    "collapsed": true
   },
   "outputs": [],
   "source": [
    "from collections import defaultdict\n",
    "from operator import itemgetter"
   ]
  },
  {
   "cell_type": "code",
   "execution_count": 5,
   "metadata": {
    "collapsed": true
   },
   "outputs": [],
   "source": [
    "def train_feature_value(x, y_true, feature, value):\n",
    "    \"\"\" Function to count each time a feature value corresponds to a specific class.\n",
    "        Returns the most frequent class and error \"\"\"\n",
    "    # Create a simple dictionary to count how frequently they give certain predictions\n",
    "    class_counts = defaultdict(int)\n",
    "    # Iterate through each sample and count the frequency of each class/value pair\n",
    "    for sample, y in zip(x, y_true):\n",
    "        if sample[feature] == value:\n",
    "            class_counts[y] += 1\n",
    "            \n",
    "    # Now get the best one by sorting (highest first) and choosing the first item\n",
    "    sorted_class_counts = sorted(class_counts.items(), key=itemgetter(1), reverse=True)\n",
    "    most_frequent_class = sorted_class_counts[0][0]\n",
    "    # The error is the number of samples that do not classify as the most frequent class\n",
    "    # and have the frequent value\n",
    "    n_samples = x.shape[1]\n",
    "    error = sum([class_count for class_value, class_count in class_counts.items()\n",
    "                 if class_value != most_frequent_class])\n",
    "    return most_frequent_class, error"
   ]
  },
  {
   "cell_type": "code",
   "execution_count": 6,
   "metadata": {
    "collapsed": true
   },
   "outputs": [],
   "source": [
    "def train(x, y_true, feature):\n",
    "    \"\"\" Function to find the most accurate feature value to use \n",
    "        for the specific feature as the OneR \"\"\"\n",
    "    # Check that variable is a valid number\n",
    "    n_samples, n_features = x.shape\n",
    "    assert 0 <= feature < n_features\n",
    "    # Get all of the unique values that this variable has \n",
    "    values = set(x[:,feature])\n",
    "    # Stores the predictors array that is returned \n",
    "    predictors = dict()\n",
    "    errors = []\n",
    "    \n",
    "    for current_value in values:\n",
    "        most_frequent_class, error = train_feature_value(x, y_true, feature, current_value)\n",
    "        predictors[current_value] = most_frequent_class\n",
    "        errors.append(error)\n",
    "    # Compute the total error of using this feature to classify on\n",
    "    total_error = sum(errors)\n",
    "    return predictors, total_error"
   ]
  },
  {
   "cell_type": "code",
   "execution_count": 7,
   "metadata": {},
   "outputs": [],
   "source": [
    "# Since the sklearn.cross_validation module was deprecated in version 0.18 the model_selection module is used\n",
    "from sklearn.model_selection import train_test_split\n",
    "\n",
    "xd_train, xd_test, y_train, y_test = train_test_split(x_d, y, random_state=14)\n",
    "\n",
    "#from IPython.core.debugger import Tracer; Tracer()()\n",
    "# Compute the predictors for all the features \n",
    "all_predictors = {}\n",
    "errors = {}\n",
    "for feature_index in range(xd_train.shape[1]):\n",
    "    predictors, total_error = train(xd_train, y_train, feature_index)\n",
    "    all_predictors[feature_index] = predictors\n",
    "    errors[feature_index] = total_error"
   ]
  },
  {
   "cell_type": "code",
   "execution_count": 8,
   "metadata": {},
   "outputs": [],
   "source": [
    "# Find feature with lowest error -> oneR\n",
    "best_feature, best_error = sorted(errors.items(), key=itemgetter(1))[0]\n",
    "\n",
    "# Create model by storing the predictors for the best feature\n",
    "model = {'feature': best_feature,\n",
    "        'predictor': all_predictors[best_feature]}\n",
    "\n",
    "# variable = model['feature']\n",
    "# predictor = model['predictor']\n",
    "# prediction = predictor[int(sample[variable])]"
   ]
  },
  {
   "cell_type": "code",
   "execution_count": 9,
   "metadata": {},
   "outputs": [],
   "source": [
    "def predict(x_test, model):\n",
    "    \"\"\" Function to predict several new samples at one time \"\"\"\n",
    "    variable = model['feature']\n",
    "    predictor = model['predictor']\n",
    "    y_predicted = np.array([predictor[int(sample[variable])] for sample in x_test])\n",
    "    return y_predicted"
   ]
  },
  {
   "cell_type": "code",
   "execution_count": 10,
   "metadata": {},
   "outputs": [
    {
     "name": "stdout",
     "output_type": "stream",
     "text": [
      "The test accuracy is 65.8%\n"
     ]
    }
   ],
   "source": [
    "y_predicted = predict(xd_test, model)\n",
    "\n",
    "accuracy = np.mean(y_predicted == y_test) * 100\n",
    "print(\"The test accuracy is {:.1f}%\".format(accuracy))"
   ]
  },
  {
   "cell_type": "code",
   "execution_count": null,
   "metadata": {
    "collapsed": true
   },
   "outputs": [],
   "source": []
  }
 ],
 "metadata": {
  "kernelspec": {
   "display_name": "Python 3",
   "language": "python",
   "name": "python3"
  },
  "language_info": {
   "codemirror_mode": {
    "name": "ipython",
    "version": 3
   },
   "file_extension": ".py",
   "mimetype": "text/x-python",
   "name": "python",
   "nbconvert_exporter": "python",
   "pygments_lexer": "ipython3",
   "version": "3.6.3"
  }
 },
 "nbformat": 4,
 "nbformat_minor": 2
}

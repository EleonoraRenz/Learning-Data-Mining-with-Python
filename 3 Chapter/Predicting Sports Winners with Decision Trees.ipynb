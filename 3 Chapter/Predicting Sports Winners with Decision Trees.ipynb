{
 "cells": [
  {
   "cell_type": "markdown",
   "metadata": {},
   "source": [
    "# Data Mining CS 619, Spring 2018 - Eleonora Renz\n",
    "\n",
    "### Week 3 - Chapter 3\n",
    "\n",
    "## Predicting Sports Winners with Decision Trees\n",
    "\n",
    "#### Using pandas to load the dataset"
   ]
  },
  {
   "cell_type": "code",
   "execution_count": 1,
   "metadata": {
    "collapsed": true
   },
   "outputs": [],
   "source": [
    "import pandas as pd\n",
    "\n",
    "data_filename = \"Data/basketball.csv\"\n",
    "dataset = pd.read_csv(data_filename, sep=\";\")"
   ]
  },
  {
   "cell_type": "code",
   "execution_count": 2,
   "metadata": {},
   "outputs": [
    {
     "data": {
      "text/html": [
       "<div>\n",
       "<style>\n",
       "    .dataframe thead tr:only-child th {\n",
       "        text-align: right;\n",
       "    }\n",
       "\n",
       "    .dataframe thead th {\n",
       "        text-align: left;\n",
       "    }\n",
       "\n",
       "    .dataframe tbody tr th {\n",
       "        vertical-align: top;\n",
       "    }\n",
       "</style>\n",
       "<table border=\"1\" class=\"dataframe\">\n",
       "  <thead>\n",
       "    <tr style=\"text-align: right;\">\n",
       "      <th></th>\n",
       "      <th>Date</th>\n",
       "      <th>Start (ET)</th>\n",
       "      <th>Visitor/Neutral</th>\n",
       "      <th>PTS</th>\n",
       "      <th>Home/Neutral</th>\n",
       "      <th>PTS.1</th>\n",
       "      <th>Unnamed: 6</th>\n",
       "      <th>Unnamed: 7</th>\n",
       "      <th>Notes</th>\n",
       "    </tr>\n",
       "  </thead>\n",
       "  <tbody>\n",
       "    <tr>\n",
       "      <th>0</th>\n",
       "      <td>Tue Oct 27 2015</td>\n",
       "      <td>8:00 pm</td>\n",
       "      <td>Detroit Pistons</td>\n",
       "      <td>106</td>\n",
       "      <td>Atlanta Hawks</td>\n",
       "      <td>94</td>\n",
       "      <td>Box Score</td>\n",
       "      <td>NaN</td>\n",
       "      <td>NaN</td>\n",
       "    </tr>\n",
       "    <tr>\n",
       "      <th>1</th>\n",
       "      <td>Tue Oct 27 2015</td>\n",
       "      <td>8:00 pm</td>\n",
       "      <td>Cleveland Cavaliers</td>\n",
       "      <td>95</td>\n",
       "      <td>Chicago Bulls</td>\n",
       "      <td>97</td>\n",
       "      <td>Box Score</td>\n",
       "      <td>NaN</td>\n",
       "      <td>NaN</td>\n",
       "    </tr>\n",
       "    <tr>\n",
       "      <th>2</th>\n",
       "      <td>Tue Oct 27 2015</td>\n",
       "      <td>10:30 pm</td>\n",
       "      <td>New Orleans Pelicans</td>\n",
       "      <td>95</td>\n",
       "      <td>Golden State Warriors</td>\n",
       "      <td>111</td>\n",
       "      <td>Box Score</td>\n",
       "      <td>NaN</td>\n",
       "      <td>NaN</td>\n",
       "    </tr>\n",
       "    <tr>\n",
       "      <th>3</th>\n",
       "      <td>Wed Oct 28 2015</td>\n",
       "      <td>7:30 pm</td>\n",
       "      <td>Philadelphia 76ers</td>\n",
       "      <td>95</td>\n",
       "      <td>Boston Celtics</td>\n",
       "      <td>112</td>\n",
       "      <td>Box Score</td>\n",
       "      <td>NaN</td>\n",
       "      <td>NaN</td>\n",
       "    </tr>\n",
       "    <tr>\n",
       "      <th>4</th>\n",
       "      <td>Wed Oct 28 2015</td>\n",
       "      <td>7:30 pm</td>\n",
       "      <td>Chicago Bulls</td>\n",
       "      <td>115</td>\n",
       "      <td>Brooklyn Nets</td>\n",
       "      <td>100</td>\n",
       "      <td>Box Score</td>\n",
       "      <td>NaN</td>\n",
       "      <td>NaN</td>\n",
       "    </tr>\n",
       "  </tbody>\n",
       "</table>\n",
       "</div>"
      ],
      "text/plain": [
       "              Date Start (ET)       Visitor/Neutral  PTS  \\\n",
       "0  Tue Oct 27 2015    8:00 pm       Detroit Pistons  106   \n",
       "1  Tue Oct 27 2015    8:00 pm   Cleveland Cavaliers   95   \n",
       "2  Tue Oct 27 2015   10:30 pm  New Orleans Pelicans   95   \n",
       "3  Wed Oct 28 2015    7:30 pm    Philadelphia 76ers   95   \n",
       "4  Wed Oct 28 2015    7:30 pm         Chicago Bulls  115   \n",
       "\n",
       "            Home/Neutral  PTS.1 Unnamed: 6 Unnamed: 7 Notes  \n",
       "0          Atlanta Hawks     94  Box Score        NaN   NaN  \n",
       "1          Chicago Bulls     97  Box Score        NaN   NaN  \n",
       "2  Golden State Warriors    111  Box Score        NaN   NaN  \n",
       "3         Boston Celtics    112  Box Score        NaN   NaN  \n",
       "4          Brooklyn Nets    100  Box Score        NaN   NaN  "
      ]
     },
     "execution_count": 2,
     "metadata": {},
     "output_type": "execute_result"
    }
   ],
   "source": [
    "dataset.head() # Leaving out the \"5\" from the book since it is the default value"
   ]
  },
  {
   "cell_type": "markdown",
   "metadata": {},
   "source": [
    "#### Cleaning up the dataset"
   ]
  },
  {
   "cell_type": "code",
   "execution_count": 3,
   "metadata": {},
   "outputs": [
    {
     "data": {
      "text/html": [
       "<div>\n",
       "<style>\n",
       "    .dataframe thead tr:only-child th {\n",
       "        text-align: right;\n",
       "    }\n",
       "\n",
       "    .dataframe thead th {\n",
       "        text-align: left;\n",
       "    }\n",
       "\n",
       "    .dataframe tbody tr th {\n",
       "        vertical-align: top;\n",
       "    }\n",
       "</style>\n",
       "<table border=\"1\" class=\"dataframe\">\n",
       "  <thead>\n",
       "    <tr style=\"text-align: right;\">\n",
       "      <th></th>\n",
       "      <th>Date</th>\n",
       "      <th>Start (ET)</th>\n",
       "      <th>Visitor Team</th>\n",
       "      <th>VisitorPts</th>\n",
       "      <th>Home Team</th>\n",
       "      <th>HomePts</th>\n",
       "      <th>OT?</th>\n",
       "      <th>Score Type</th>\n",
       "      <th>Notes</th>\n",
       "    </tr>\n",
       "  </thead>\n",
       "  <tbody>\n",
       "    <tr>\n",
       "      <th>0</th>\n",
       "      <td>2015-10-27</td>\n",
       "      <td>8:00 pm</td>\n",
       "      <td>Detroit Pistons</td>\n",
       "      <td>106</td>\n",
       "      <td>Atlanta Hawks</td>\n",
       "      <td>94</td>\n",
       "      <td>Box Score</td>\n",
       "      <td>NaN</td>\n",
       "      <td>NaN</td>\n",
       "    </tr>\n",
       "    <tr>\n",
       "      <th>1</th>\n",
       "      <td>2015-10-27</td>\n",
       "      <td>8:00 pm</td>\n",
       "      <td>Cleveland Cavaliers</td>\n",
       "      <td>95</td>\n",
       "      <td>Chicago Bulls</td>\n",
       "      <td>97</td>\n",
       "      <td>Box Score</td>\n",
       "      <td>NaN</td>\n",
       "      <td>NaN</td>\n",
       "    </tr>\n",
       "    <tr>\n",
       "      <th>2</th>\n",
       "      <td>2015-10-27</td>\n",
       "      <td>10:30 pm</td>\n",
       "      <td>New Orleans Pelicans</td>\n",
       "      <td>95</td>\n",
       "      <td>Golden State Warriors</td>\n",
       "      <td>111</td>\n",
       "      <td>Box Score</td>\n",
       "      <td>NaN</td>\n",
       "      <td>NaN</td>\n",
       "    </tr>\n",
       "    <tr>\n",
       "      <th>3</th>\n",
       "      <td>2015-10-28</td>\n",
       "      <td>7:30 pm</td>\n",
       "      <td>Philadelphia 76ers</td>\n",
       "      <td>95</td>\n",
       "      <td>Boston Celtics</td>\n",
       "      <td>112</td>\n",
       "      <td>Box Score</td>\n",
       "      <td>NaN</td>\n",
       "      <td>NaN</td>\n",
       "    </tr>\n",
       "    <tr>\n",
       "      <th>4</th>\n",
       "      <td>2015-10-28</td>\n",
       "      <td>7:30 pm</td>\n",
       "      <td>Chicago Bulls</td>\n",
       "      <td>115</td>\n",
       "      <td>Brooklyn Nets</td>\n",
       "      <td>100</td>\n",
       "      <td>Box Score</td>\n",
       "      <td>NaN</td>\n",
       "      <td>NaN</td>\n",
       "    </tr>\n",
       "  </tbody>\n",
       "</table>\n",
       "</div>"
      ],
      "text/plain": [
       "        Date Start (ET)          Visitor Team  VisitorPts  \\\n",
       "0 2015-10-27    8:00 pm       Detroit Pistons         106   \n",
       "1 2015-10-27    8:00 pm   Cleveland Cavaliers          95   \n",
       "2 2015-10-27   10:30 pm  New Orleans Pelicans          95   \n",
       "3 2015-10-28    7:30 pm    Philadelphia 76ers          95   \n",
       "4 2015-10-28    7:30 pm         Chicago Bulls         115   \n",
       "\n",
       "               Home Team  HomePts        OT? Score Type Notes  \n",
       "0          Atlanta Hawks       94  Box Score        NaN   NaN  \n",
       "1          Chicago Bulls       97  Box Score        NaN   NaN  \n",
       "2  Golden State Warriors      111  Box Score        NaN   NaN  \n",
       "3         Boston Celtics      112  Box Score        NaN   NaN  \n",
       "4          Brooklyn Nets      100  Box Score        NaN   NaN  "
      ]
     },
     "execution_count": 3,
     "metadata": {},
     "output_type": "execute_result"
    }
   ],
   "source": [
    "dataset = pd.read_csv(data_filename, sep=\";\", parse_dates=[\"Date\"])\n",
    "\n",
    "dataset.columns = [\"Date\", \"Start (ET)\", \"Visitor Team\", \"VisitorPts\", \"Home Team\", \"HomePts\", \"OT?\", \"Score Type\", \"Notes\"]\n",
    "\n",
    "dataset.head()"
   ]
  },
  {
   "cell_type": "code",
   "execution_count": 4,
   "metadata": {},
   "outputs": [
    {
     "name": "stdout",
     "output_type": "stream",
     "text": [
      "Date            datetime64[ns]\n",
      "Start (ET)              object\n",
      "Visitor Team            object\n",
      "VisitorPts               int64\n",
      "Home Team               object\n",
      "HomePts                  int64\n",
      "OT?                     object\n",
      "Score Type              object\n",
      "Notes                   object\n",
      "dtype: object\n"
     ]
    }
   ],
   "source": [
    "print(dataset.dtypes)"
   ]
  },
  {
   "cell_type": "markdown",
   "metadata": {},
   "source": [
    "#### Extacting new features"
   ]
  },
  {
   "cell_type": "code",
   "execution_count": 5,
   "metadata": {
    "collapsed": true
   },
   "outputs": [],
   "source": [
    "dataset[\"HomeWin\"] = dataset[\"VisitorPts\"] < dataset[\"HomePts\"]\n",
    "y_true = dataset[\"HomeWin\"].values"
   ]
  },
  {
   "cell_type": "markdown",
   "metadata": {},
   "source": [
    "As a baseline accuracy we can look at the accuracy of home wins, because in nearly all sports the home team has an advantage in games.<br>Our baseline accuracy is:"
   ]
  },
  {
   "cell_type": "code",
   "execution_count": 6,
   "metadata": {},
   "outputs": [
    {
     "data": {
      "text/plain": [
       "0.5942249240121581"
      ]
     },
     "execution_count": 6,
     "metadata": {},
     "output_type": "execute_result"
    }
   ],
   "source": [
    "dataset[\"HomeWin\"].mean()"
   ]
  },
  {
   "cell_type": "code",
   "execution_count": 7,
   "metadata": {
    "collapsed": true
   },
   "outputs": [],
   "source": [
    "from collections import defaultdict\n",
    "\n",
    "# Creating new fatures\n",
    "won_last = defaultdict(int)\n",
    "\n",
    "# Initialize dictionaries \n",
    "dataset[\"HomeLastWin\"] = 0\n",
    "dataset[\"VisitorLastWin\"] = 0\n",
    "\n",
    "for index, row in dataset.iterrows():\n",
    "    home_team = row[\"Home Team\"]\n",
    "    visitor_team = row[\"Visitor Team\"]\n",
    "    row[\"Home Team\"] = won_last[home_team]\n",
    "    dataset.set_value(index, \"HomeLastWin\", won_last[home_team])\n",
    "    dataset.set_value(index, \"VisitorLastWin\", won_last[visitor_team])\n",
    "    won_last[home_team] = int(row[\"HomeWin\"])\n",
    "    won_last[visitor_team] = 1 - int(row[\"HomeWin\"])"
   ]
  },
  {
   "cell_type": "code",
   "execution_count": 8,
   "metadata": {},
   "outputs": [
    {
     "data": {
      "text/html": [
       "<div>\n",
       "<style>\n",
       "    .dataframe thead tr:only-child th {\n",
       "        text-align: right;\n",
       "    }\n",
       "\n",
       "    .dataframe thead th {\n",
       "        text-align: left;\n",
       "    }\n",
       "\n",
       "    .dataframe tbody tr th {\n",
       "        vertical-align: top;\n",
       "    }\n",
       "</style>\n",
       "<table border=\"1\" class=\"dataframe\">\n",
       "  <thead>\n",
       "    <tr style=\"text-align: right;\">\n",
       "      <th></th>\n",
       "      <th>Date</th>\n",
       "      <th>Start (ET)</th>\n",
       "      <th>Visitor Team</th>\n",
       "      <th>VisitorPts</th>\n",
       "      <th>Home Team</th>\n",
       "      <th>HomePts</th>\n",
       "      <th>OT?</th>\n",
       "      <th>Score Type</th>\n",
       "      <th>Notes</th>\n",
       "      <th>HomeWin</th>\n",
       "      <th>HomeLastWin</th>\n",
       "      <th>VisitorLastWin</th>\n",
       "    </tr>\n",
       "  </thead>\n",
       "  <tbody>\n",
       "    <tr>\n",
       "      <th>0</th>\n",
       "      <td>2015-10-27</td>\n",
       "      <td>8:00 pm</td>\n",
       "      <td>Detroit Pistons</td>\n",
       "      <td>106</td>\n",
       "      <td>Atlanta Hawks</td>\n",
       "      <td>94</td>\n",
       "      <td>Box Score</td>\n",
       "      <td>NaN</td>\n",
       "      <td>NaN</td>\n",
       "      <td>False</td>\n",
       "      <td>0</td>\n",
       "      <td>0</td>\n",
       "    </tr>\n",
       "    <tr>\n",
       "      <th>1</th>\n",
       "      <td>2015-10-27</td>\n",
       "      <td>8:00 pm</td>\n",
       "      <td>Cleveland Cavaliers</td>\n",
       "      <td>95</td>\n",
       "      <td>Chicago Bulls</td>\n",
       "      <td>97</td>\n",
       "      <td>Box Score</td>\n",
       "      <td>NaN</td>\n",
       "      <td>NaN</td>\n",
       "      <td>True</td>\n",
       "      <td>0</td>\n",
       "      <td>0</td>\n",
       "    </tr>\n",
       "    <tr>\n",
       "      <th>2</th>\n",
       "      <td>2015-10-27</td>\n",
       "      <td>10:30 pm</td>\n",
       "      <td>New Orleans Pelicans</td>\n",
       "      <td>95</td>\n",
       "      <td>Golden State Warriors</td>\n",
       "      <td>111</td>\n",
       "      <td>Box Score</td>\n",
       "      <td>NaN</td>\n",
       "      <td>NaN</td>\n",
       "      <td>True</td>\n",
       "      <td>0</td>\n",
       "      <td>0</td>\n",
       "    </tr>\n",
       "    <tr>\n",
       "      <th>3</th>\n",
       "      <td>2015-10-28</td>\n",
       "      <td>7:30 pm</td>\n",
       "      <td>Philadelphia 76ers</td>\n",
       "      <td>95</td>\n",
       "      <td>Boston Celtics</td>\n",
       "      <td>112</td>\n",
       "      <td>Box Score</td>\n",
       "      <td>NaN</td>\n",
       "      <td>NaN</td>\n",
       "      <td>True</td>\n",
       "      <td>0</td>\n",
       "      <td>0</td>\n",
       "    </tr>\n",
       "    <tr>\n",
       "      <th>4</th>\n",
       "      <td>2015-10-28</td>\n",
       "      <td>7:30 pm</td>\n",
       "      <td>Chicago Bulls</td>\n",
       "      <td>115</td>\n",
       "      <td>Brooklyn Nets</td>\n",
       "      <td>100</td>\n",
       "      <td>Box Score</td>\n",
       "      <td>NaN</td>\n",
       "      <td>NaN</td>\n",
       "      <td>False</td>\n",
       "      <td>0</td>\n",
       "      <td>1</td>\n",
       "    </tr>\n",
       "    <tr>\n",
       "      <th>5</th>\n",
       "      <td>2015-10-28</td>\n",
       "      <td>7:30 pm</td>\n",
       "      <td>Utah Jazz</td>\n",
       "      <td>87</td>\n",
       "      <td>Detroit Pistons</td>\n",
       "      <td>92</td>\n",
       "      <td>Box Score</td>\n",
       "      <td>NaN</td>\n",
       "      <td>NaN</td>\n",
       "      <td>True</td>\n",
       "      <td>1</td>\n",
       "      <td>0</td>\n",
       "    </tr>\n",
       "  </tbody>\n",
       "</table>\n",
       "</div>"
      ],
      "text/plain": [
       "        Date Start (ET)          Visitor Team  VisitorPts  \\\n",
       "0 2015-10-27    8:00 pm       Detroit Pistons         106   \n",
       "1 2015-10-27    8:00 pm   Cleveland Cavaliers          95   \n",
       "2 2015-10-27   10:30 pm  New Orleans Pelicans          95   \n",
       "3 2015-10-28    7:30 pm    Philadelphia 76ers          95   \n",
       "4 2015-10-28    7:30 pm         Chicago Bulls         115   \n",
       "5 2015-10-28    7:30 pm             Utah Jazz          87   \n",
       "\n",
       "               Home Team  HomePts        OT? Score Type Notes  HomeWin  \\\n",
       "0          Atlanta Hawks       94  Box Score        NaN   NaN    False   \n",
       "1          Chicago Bulls       97  Box Score        NaN   NaN     True   \n",
       "2  Golden State Warriors      111  Box Score        NaN   NaN     True   \n",
       "3         Boston Celtics      112  Box Score        NaN   NaN     True   \n",
       "4          Brooklyn Nets      100  Box Score        NaN   NaN    False   \n",
       "5        Detroit Pistons       92  Box Score        NaN   NaN     True   \n",
       "\n",
       "   HomeLastWin  VisitorLastWin  \n",
       "0            0               0  \n",
       "1            0               0  \n",
       "2            0               0  \n",
       "3            0               0  \n",
       "4            0               1  \n",
       "5            1               0  "
      ]
     },
     "execution_count": 8,
     "metadata": {},
     "output_type": "execute_result"
    }
   ],
   "source": [
    "dataset.head(6)"
   ]
  },
  {
   "cell_type": "code",
   "execution_count": 9,
   "metadata": {},
   "outputs": [
    {
     "data": {
      "text/html": [
       "<div>\n",
       "<style>\n",
       "    .dataframe thead tr:only-child th {\n",
       "        text-align: right;\n",
       "    }\n",
       "\n",
       "    .dataframe thead th {\n",
       "        text-align: left;\n",
       "    }\n",
       "\n",
       "    .dataframe tbody tr th {\n",
       "        vertical-align: top;\n",
       "    }\n",
       "</style>\n",
       "<table border=\"1\" class=\"dataframe\">\n",
       "  <thead>\n",
       "    <tr style=\"text-align: right;\">\n",
       "      <th></th>\n",
       "      <th>Date</th>\n",
       "      <th>Start (ET)</th>\n",
       "      <th>Visitor Team</th>\n",
       "      <th>VisitorPts</th>\n",
       "      <th>Home Team</th>\n",
       "      <th>HomePts</th>\n",
       "      <th>OT?</th>\n",
       "      <th>Score Type</th>\n",
       "      <th>Notes</th>\n",
       "      <th>HomeWin</th>\n",
       "      <th>HomeLastWin</th>\n",
       "      <th>VisitorLastWin</th>\n",
       "    </tr>\n",
       "  </thead>\n",
       "  <tbody>\n",
       "    <tr>\n",
       "      <th>1000</th>\n",
       "      <td>2016-03-15</td>\n",
       "      <td>7:00 pm</td>\n",
       "      <td>Denver Nuggets</td>\n",
       "      <td>110</td>\n",
       "      <td>Orlando Magic</td>\n",
       "      <td>116</td>\n",
       "      <td>Box Score</td>\n",
       "      <td>NaN</td>\n",
       "      <td>NaN</td>\n",
       "      <td>True</td>\n",
       "      <td>0</td>\n",
       "      <td>0</td>\n",
       "    </tr>\n",
       "    <tr>\n",
       "      <th>1001</th>\n",
       "      <td>2016-03-15</td>\n",
       "      <td>8:30 pm</td>\n",
       "      <td>Los Angeles Clippers</td>\n",
       "      <td>87</td>\n",
       "      <td>San Antonio Spurs</td>\n",
       "      <td>108</td>\n",
       "      <td>Box Score</td>\n",
       "      <td>NaN</td>\n",
       "      <td>NaN</td>\n",
       "      <td>True</td>\n",
       "      <td>1</td>\n",
       "      <td>0</td>\n",
       "    </tr>\n",
       "    <tr>\n",
       "      <th>1002</th>\n",
       "      <td>2016-03-16</td>\n",
       "      <td>7:00 pm</td>\n",
       "      <td>Oklahoma City Thunder</td>\n",
       "      <td>130</td>\n",
       "      <td>Boston Celtics</td>\n",
       "      <td>109</td>\n",
       "      <td>Box Score</td>\n",
       "      <td>NaN</td>\n",
       "      <td>NaN</td>\n",
       "      <td>False</td>\n",
       "      <td>0</td>\n",
       "      <td>1</td>\n",
       "    </tr>\n",
       "    <tr>\n",
       "      <th>1003</th>\n",
       "      <td>2016-03-16</td>\n",
       "      <td>7:00 pm</td>\n",
       "      <td>Orlando Magic</td>\n",
       "      <td>99</td>\n",
       "      <td>Charlotte Hornets</td>\n",
       "      <td>107</td>\n",
       "      <td>Box Score</td>\n",
       "      <td>NaN</td>\n",
       "      <td>NaN</td>\n",
       "      <td>True</td>\n",
       "      <td>0</td>\n",
       "      <td>1</td>\n",
       "    </tr>\n",
       "    <tr>\n",
       "      <th>1004</th>\n",
       "      <td>2016-03-16</td>\n",
       "      <td>7:00 pm</td>\n",
       "      <td>Dallas Mavericks</td>\n",
       "      <td>98</td>\n",
       "      <td>Cleveland Cavaliers</td>\n",
       "      <td>99</td>\n",
       "      <td>Box Score</td>\n",
       "      <td>NaN</td>\n",
       "      <td>NaN</td>\n",
       "      <td>True</td>\n",
       "      <td>0</td>\n",
       "      <td>1</td>\n",
       "    </tr>\n",
       "  </tbody>\n",
       "</table>\n",
       "</div>"
      ],
      "text/plain": [
       "           Date Start (ET)           Visitor Team  VisitorPts  \\\n",
       "1000 2016-03-15    7:00 pm         Denver Nuggets         110   \n",
       "1001 2016-03-15    8:30 pm   Los Angeles Clippers          87   \n",
       "1002 2016-03-16    7:00 pm  Oklahoma City Thunder         130   \n",
       "1003 2016-03-16    7:00 pm          Orlando Magic          99   \n",
       "1004 2016-03-16    7:00 pm       Dallas Mavericks          98   \n",
       "\n",
       "                Home Team  HomePts        OT? Score Type Notes  HomeWin  \\\n",
       "1000        Orlando Magic      116  Box Score        NaN   NaN     True   \n",
       "1001    San Antonio Spurs      108  Box Score        NaN   NaN     True   \n",
       "1002       Boston Celtics      109  Box Score        NaN   NaN    False   \n",
       "1003    Charlotte Hornets      107  Box Score        NaN   NaN     True   \n",
       "1004  Cleveland Cavaliers       99  Box Score        NaN   NaN     True   \n",
       "\n",
       "      HomeLastWin  VisitorLastWin  \n",
       "1000            0               0  \n",
       "1001            1               0  \n",
       "1002            0               1  \n",
       "1003            0               1  \n",
       "1004            0               1  "
      ]
     },
     "execution_count": 9,
     "metadata": {},
     "output_type": "execute_result"
    }
   ],
   "source": [
    "dataset.iloc[1000:1005] # Using iloc instead of ix as it is recommended over ix"
   ]
  },
  {
   "cell_type": "markdown",
   "metadata": {},
   "source": [
    "### Quick Book Definitions:\n",
    "\n",
    "<b>Decision trees</b> are a class of supervised learning algorithms like a flow\n",
    "chart that consists of a sequence of nodes, where the values for a sample\n",
    "are used to make a decision on the next node to go to.\n",
    "<br>Decision trees, like most classification methods, are <i>eager\n",
    "learners</i>, undertaking work at the training stage and therefore needing to do less\n",
    "in the predicting stage.<br>\n",
    "One of the most important parameters for a Decision Tree is the stopping criterion. When\n",
    "the tree building is nearly completed, the final few decisions can often be somewhat\n",
    "arbitrary and rely on only a small number of samples to make their decision. Using such\n",
    "specific nodes can result in trees that significantly overfit the training data. Instead, a\n",
    "stopping criterion can be used to ensure that the Decision Tree does not reach this\n",
    "exactness.\n",
    "Instead of using a stopping criterion, the tree could be created in full and then trimmed.\n",
    "This trimming process removes nodes that do not provide much information to the overall\n",
    "process. This is known as pruning and results in a model that generally does better on new\n",
    "datasets because it hasn't overfitted the training data.\n",
    "<ul><li><i>min_samples_split</i>: This specifies how many samples are needed in order to\n",
    "create a new node in the Decision Tree\n",
    "<li><i>min_samples_leaf</i>: This specifies how many samples must be resulting from a\n",
    "node for it to stay</li>\n",
    "<li><i>Gini impurity</i>: This is a measure of how often a decision node would incorrectly\n",
    "predict a sample's class</li>\n",
    "<li><i>Information gain</i>: This uses information-theory-based entropy to indicate how\n",
    "much extra information is gained by the decision node</li></ul>"
   ]
  },
  {
   "cell_type": "code",
   "execution_count": 10,
   "metadata": {},
   "outputs": [
    {
     "name": "stdout",
     "output_type": "stream",
     "text": [
      "Accuracy: 59.4%\n"
     ]
    }
   ],
   "source": [
    "from sklearn.tree import DecisionTreeClassifier\n",
    "\n",
    "clf = DecisionTreeClassifier(random_state = 14)\n",
    "\n",
    "x_previouswins = dataset[[\"HomeLastWin\", \"VisitorLastWin\"]].values\n",
    "\n",
    "from sklearn.model_selection import cross_val_score\n",
    "import numpy as np\n",
    "\n",
    "scores = cross_val_score(clf, x_previouswins, y_true, scoring='accuracy')\n",
    "print(\"Accuracy: {0:.1f}%\".format(np.mean(scores) * 100))"
   ]
  },
  {
   "cell_type": "markdown",
   "metadata": {},
   "source": [
    "#### Putting it all together"
   ]
  },
  {
   "cell_type": "code",
   "execution_count": 11,
   "metadata": {
    "scrolled": true
   },
   "outputs": [
    {
     "data": {
      "text/html": [
       "<div>\n",
       "<style>\n",
       "    .dataframe thead tr:only-child th {\n",
       "        text-align: right;\n",
       "    }\n",
       "\n",
       "    .dataframe thead th {\n",
       "        text-align: left;\n",
       "    }\n",
       "\n",
       "    .dataframe tbody tr th {\n",
       "        vertical-align: top;\n",
       "    }\n",
       "</style>\n",
       "<table border=\"1\" class=\"dataframe\">\n",
       "  <thead>\n",
       "    <tr style=\"text-align: right;\">\n",
       "      <th></th>\n",
       "      <th>Rk</th>\n",
       "      <th>Team</th>\n",
       "      <th>Overall</th>\n",
       "      <th>Home</th>\n",
       "      <th>Road</th>\n",
       "      <th>E</th>\n",
       "      <th>W</th>\n",
       "      <th>A</th>\n",
       "      <th>C</th>\n",
       "      <th>SE</th>\n",
       "      <th>...</th>\n",
       "      <th>Post</th>\n",
       "      <th>?3</th>\n",
       "      <th>?10</th>\n",
       "      <th>Oct</th>\n",
       "      <th>Nov</th>\n",
       "      <th>Dec</th>\n",
       "      <th>Jan</th>\n",
       "      <th>Feb</th>\n",
       "      <th>Mar</th>\n",
       "      <th>Apr</th>\n",
       "    </tr>\n",
       "  </thead>\n",
       "  <tbody>\n",
       "    <tr>\n",
       "      <th>0</th>\n",
       "      <td>1</td>\n",
       "      <td>Golden State Warriors</td>\n",
       "      <td>67-15</td>\n",
       "      <td>39-2</td>\n",
       "      <td>28-13</td>\n",
       "      <td>25  May</td>\n",
       "      <td>42-10</td>\n",
       "      <td>9  Jan</td>\n",
       "      <td>7  Mar</td>\n",
       "      <td>9  Jan</td>\n",
       "      <td>...</td>\n",
       "      <td>25  Jun</td>\n",
       "      <td>5  Mar</td>\n",
       "      <td>45-9</td>\n",
       "      <td>1-0</td>\n",
       "      <td>13  Feb</td>\n",
       "      <td>11  Mar</td>\n",
       "      <td>12  Mar</td>\n",
       "      <td>8  Mar</td>\n",
       "      <td>16  Feb</td>\n",
       "      <td>6  Feb</td>\n",
       "    </tr>\n",
       "    <tr>\n",
       "      <th>1</th>\n",
       "      <td>2</td>\n",
       "      <td>Atlanta Hawks</td>\n",
       "      <td>60-22</td>\n",
       "      <td>35-6</td>\n",
       "      <td>25-16</td>\n",
       "      <td>38-14</td>\n",
       "      <td>22  Aug</td>\n",
       "      <td>12  Jun</td>\n",
       "      <td>14  Apr</td>\n",
       "      <td>12  Apr</td>\n",
       "      <td>...</td>\n",
       "      <td>17  Nov</td>\n",
       "      <td>6  Apr</td>\n",
       "      <td>30  Oct</td>\n",
       "      <td>0-1</td>\n",
       "      <td>9  May</td>\n",
       "      <td>14  Feb</td>\n",
       "      <td>17-0</td>\n",
       "      <td>7  Apr</td>\n",
       "      <td>9  Jul</td>\n",
       "      <td>4  Mar</td>\n",
       "    </tr>\n",
       "    <tr>\n",
       "      <th>2</th>\n",
       "      <td>3</td>\n",
       "      <td>Houston Rockets</td>\n",
       "      <td>56-26</td>\n",
       "      <td>30  Nov</td>\n",
       "      <td>26-15</td>\n",
       "      <td>23  Jul</td>\n",
       "      <td>33-19</td>\n",
       "      <td>9  Jan</td>\n",
       "      <td>8  Feb</td>\n",
       "      <td>6  Apr</td>\n",
       "      <td>...</td>\n",
       "      <td>20  Sep</td>\n",
       "      <td>8  Apr</td>\n",
       "      <td>31-14</td>\n",
       "      <td>2-0</td>\n",
       "      <td>11  Apr</td>\n",
       "      <td>9  May</td>\n",
       "      <td>11  Jun</td>\n",
       "      <td>7  Mar</td>\n",
       "      <td>10  Jun</td>\n",
       "      <td>6  Feb</td>\n",
       "    </tr>\n",
       "    <tr>\n",
       "      <th>3</th>\n",
       "      <td>4</td>\n",
       "      <td>Los Angeles Clippers</td>\n",
       "      <td>56-26</td>\n",
       "      <td>30  Nov</td>\n",
       "      <td>26-15</td>\n",
       "      <td>19  Nov</td>\n",
       "      <td>37-15</td>\n",
       "      <td>7  Mar</td>\n",
       "      <td>6  Apr</td>\n",
       "      <td>6  Apr</td>\n",
       "      <td>...</td>\n",
       "      <td>21  Jul</td>\n",
       "      <td>3  May</td>\n",
       "      <td>33-9</td>\n",
       "      <td>2-0</td>\n",
       "      <td>9  May</td>\n",
       "      <td>11  Jun</td>\n",
       "      <td>11  Apr</td>\n",
       "      <td>5  Jun</td>\n",
       "      <td>11  May</td>\n",
       "      <td>7-0</td>\n",
       "    </tr>\n",
       "    <tr>\n",
       "      <th>4</th>\n",
       "      <td>5</td>\n",
       "      <td>Memphis Grizzlies</td>\n",
       "      <td>55-27</td>\n",
       "      <td>31  Oct</td>\n",
       "      <td>24-17</td>\n",
       "      <td>20  Oct</td>\n",
       "      <td>35-17</td>\n",
       "      <td>8  Feb</td>\n",
       "      <td>5  May</td>\n",
       "      <td>7  Mar</td>\n",
       "      <td>...</td>\n",
       "      <td>16-13</td>\n",
       "      <td>9  Mar</td>\n",
       "      <td>26-13</td>\n",
       "      <td>2-0</td>\n",
       "      <td>13  Feb</td>\n",
       "      <td>8  Jun</td>\n",
       "      <td>12  Apr</td>\n",
       "      <td>7  Apr</td>\n",
       "      <td>9  Aug</td>\n",
       "      <td>4  Mar</td>\n",
       "    </tr>\n",
       "  </tbody>\n",
       "</table>\n",
       "<p>5 rows × 24 columns</p>\n",
       "</div>"
      ],
      "text/plain": [
       "   Rk                   Team Overall     Home   Road        E        W  \\\n",
       "0   1  Golden State Warriors   67-15     39-2  28-13  25  May    42-10   \n",
       "1   2          Atlanta Hawks   60-22     35-6  25-16    38-14  22  Aug   \n",
       "2   3        Houston Rockets   56-26  30  Nov  26-15  23  Jul    33-19   \n",
       "3   4   Los Angeles Clippers   56-26  30  Nov  26-15  19  Nov    37-15   \n",
       "4   5      Memphis Grizzlies   55-27  31  Oct  24-17  20  Oct    35-17   \n",
       "\n",
       "         A        C       SE   ...       Post      ?3      ?10  Oct      Nov  \\\n",
       "0   9  Jan   7  Mar   9  Jan   ...    25  Jun  5  Mar     45-9  1-0  13  Feb   \n",
       "1  12  Jun  14  Apr  12  Apr   ...    17  Nov  6  Apr  30  Oct  0-1   9  May   \n",
       "2   9  Jan   8  Feb   6  Apr   ...    20  Sep  8  Apr    31-14  2-0  11  Apr   \n",
       "3   7  Mar   6  Apr   6  Apr   ...    21  Jul  3  May     33-9  2-0   9  May   \n",
       "4   8  Feb   5  May   7  Mar   ...      16-13  9  Mar    26-13  2-0  13  Feb   \n",
       "\n",
       "       Dec      Jan     Feb      Mar     Apr  \n",
       "0  11  Mar  12  Mar  8  Mar  16  Feb  6  Feb  \n",
       "1  14  Feb     17-0  7  Apr   9  Jul  4  Mar  \n",
       "2   9  May  11  Jun  7  Mar  10  Jun  6  Feb  \n",
       "3  11  Jun  11  Apr  5  Jun  11  May     7-0  \n",
       "4   8  Jun  12  Apr  7  Apr   9  Aug  4  Mar  \n",
       "\n",
       "[5 rows x 24 columns]"
      ]
     },
     "execution_count": 11,
     "metadata": {},
     "output_type": "execute_result"
    }
   ],
   "source": [
    "import os \n",
    "\n",
    "data_folder = \"Data/\"\n",
    "standings_filename = os.path.join(data_folder, \"standings.csv\")\n",
    "\n",
    "standings = pd.read_csv(standings_filename, skiprows = 1, sep = \";\")\n",
    "\n",
    "standings.head()"
   ]
  },
  {
   "cell_type": "code",
   "execution_count": 12,
   "metadata": {
    "collapsed": true
   },
   "outputs": [],
   "source": [
    "# Create new feature\n",
    "dataset[\"HomeTeamRanksHigher\"] = 0\n",
    "for index, row in dataset.iterrows():\n",
    "    home_team = row[\"Home Team\"]\n",
    "    visitor_team = row[\"Visitor Team\"]\n",
    "    home_rank = standings[standings[\"Team\"] == home_team][\"Rk\"].values[0]\n",
    "    visitor_rank = standings[standings[\"Team\"] == visitor_team][\"Rk\"].values[0]\n",
    "    row[\"HomeTeamRankHigher\"] = int(home_rank > visitor_rank)\n",
    "    dataset.set_value(index, \"HomeTeamRanksHigher\", int(home_rank < visitor_rank))"
   ]
  },
  {
   "cell_type": "code",
   "execution_count": 13,
   "metadata": {},
   "outputs": [
    {
     "name": "stdout",
     "output_type": "stream",
     "text": [
      "Accuracy: 60.9%\n"
     ]
    }
   ],
   "source": [
    "# Test the results\n",
    "x_homehigher = dataset[[\"HomeLastWin\", \"VisitorLastWin\", \"HomeTeamRanksHigher\"]].values\n",
    "\n",
    "# Create DecisionTree and run evaluation\n",
    "clf = DecisionTreeClassifier(random_state = 14)\n",
    "scores = cross_val_score(clf, x_homehigher, y_true, scoring='accuracy')\n",
    "print(\"Accuracy: {0:.1f}%\".format(np.mean(scores) * 100))"
   ]
  },
  {
   "cell_type": "markdown",
   "metadata": {},
   "source": [
    "Now we will look at which team won in the last match where they were facing eachother:"
   ]
  },
  {
   "cell_type": "code",
   "execution_count": 14,
   "metadata": {},
   "outputs": [
    {
     "name": "stdout",
     "output_type": "stream",
     "text": [
      "Accuracy: 60.5%\n"
     ]
    }
   ],
   "source": [
    "last_match_winner = defaultdict(int)\n",
    "dataset[\"HomeTeamWonLast\"] = 0\n",
    "\n",
    "for index, row in dataset.iterrows():\n",
    "    home_Team = row[\"Home Team\"]\n",
    "    visitor_team = row[\"Visitor Team\"]\n",
    "    teams = tuple(sorted([home_team, visitor_team])) # Sort for a consistent ordering\n",
    "    # Set in the row, who won the last encounter\n",
    "    \n",
    "    home_team_won_last = 1 if last_match_winner[teams] == row[\"Home Team\"] else 0\n",
    "    dataset.set_value(index, \"HomeTeamWonLast\", home_team_won_last)\n",
    "    # Who won this one?\n",
    "    winner = row[\"Home Team\"] if row[\"HomeWin\"] else row[\"Visitor Team\"]\n",
    "    last_match_winner[teams] = winner\n",
    "    \n",
    "# Evaluate \n",
    "x_lastwinner = dataset[[\"HomeTeamWonLast\", \"HomeTeamRanksHigher\", \"HomeLastWin\", \"VisitorLastWin\",]].values\n",
    "clf = DecisionTreeClassifier(random_state = 14, criterion = \"entropy\")\n",
    "\n",
    "scores = cross_val_score(clf, x_lastwinner, y_true, scoring=\"accuracy\")\n",
    "print(\"Accuracy: {0:.1f}%\".format(np.mean(scores) * 100))"
   ]
  },
  {
   "cell_type": "markdown",
   "metadata": {},
   "source": [
    "#### Label Encoder"
   ]
  },
  {
   "cell_type": "code",
   "execution_count": 15,
   "metadata": {
    "collapsed": true
   },
   "outputs": [],
   "source": [
    "# Transform Strings into assigned integer values\n",
    "from sklearn.preprocessing import LabelEncoder\n",
    "encoding = LabelEncoder()\n",
    "encoding.fit(dataset[\"Home Team\"].values)\n",
    "home_teams = encoding.transform(dataset[\"Home Team\"].values)\n",
    "visitor_teams = encoding.transform(dataset[\"Visitor Team\"].values)\n",
    "x_teams = np.vstack([home_teams, visitor_teams]).T"
   ]
  },
  {
   "cell_type": "markdown",
   "metadata": {},
   "source": [
    "#### One Hot Encoder"
   ]
  },
  {
   "cell_type": "code",
   "execution_count": 16,
   "metadata": {
    "collapsed": true
   },
   "outputs": [],
   "source": [
    "from sklearn.preprocessing import OneHotEncoder\n",
    "onehot = OneHotEncoder()\n",
    "x_teams = onehot.fit_transform(x_teams).todense()"
   ]
  },
  {
   "cell_type": "code",
   "execution_count": 17,
   "metadata": {},
   "outputs": [
    {
     "name": "stdout",
     "output_type": "stream",
     "text": [
      "Accuracy: 62.8%\n"
     ]
    }
   ],
   "source": [
    "clf = DecisionTreeClassifier(random_state = 14)\n",
    "scores = cross_val_score(clf, x_teams, y_true, scoring=\"accuracy\")\n",
    "print(\"Accuracy: {0:.1f}%\".format(np.mean(scores) * 100))"
   ]
  },
  {
   "cell_type": "markdown",
   "metadata": {},
   "source": [
    "### Random Forests\n",
    "\n",
    "We have randomly built trees using randomly chosen samples, using (nearly)\n",
    "randomly chosen features. This is a <b>random forest</b> and, perhaps unintuitively, this\n",
    "algorithm is very effective for many datasets, with little need to tune many parameters of\n",
    "the model.\n",
    "<b>Bagging</b> is choosing a random subsample of our dataset, effectively creating new training sets.\n",
    "\n",
    "### How does ensamble work?\n",
    "\n",
    "<b>Variance</b> is the error introduced by variations in the training dataset on\n",
    "the algorithm. Algorithms with a high variance (such as decision trees) can\n",
    "be greatly affected by variations to the training dataset. This results in\n",
    "models that have the problem of overfitting. <br>In contrast, <b>bias</b> is the error\n",
    "introduced by assumptions in the algorithm rather than anything to do\n",
    "with the dataset, that is, if we had an algorithm that presumed that all\n",
    "features would be normally distributed, then our algorithm may have a\n",
    "high error if the features were not.\n",
    "\n",
    "### Applying random forests"
   ]
  },
  {
   "cell_type": "code",
   "execution_count": 18,
   "metadata": {},
   "outputs": [
    {
     "name": "stdout",
     "output_type": "stream",
     "text": [
      "Accuracy: 65.3%\n"
     ]
    }
   ],
   "source": [
    "from sklearn.ensemble import RandomForestClassifier\n",
    "clf = RandomForestClassifier(random_state = 14)\n",
    "scores = cross_val_score(clf, x_teams, y_true, scoring=\"accuracy\")\n",
    "print(\"Accuracy: {0:.1f}%\".format(np.mean(scores) * 100))"
   ]
  },
  {
   "cell_type": "code",
   "execution_count": null,
   "metadata": {},
   "outputs": [
    {
     "name": "stdout",
     "output_type": "stream",
     "text": [
      "Accuracy: 61.2%\n"
     ]
    }
   ],
   "source": [
    "x_all = np.hstack([x_lastwinner, x_teams])\n",
    "clf = RandomForestClassifier(random_state = 14)\n",
    "scores = cross_val_score(clf, x_all, y_true, scoring = \"accuracy\")\n",
    "print(\"Accuracy: {0:.1f}%\".format(np.mean(scores) * 100))"
   ]
  },
  {
   "cell_type": "code",
   "execution_count": null,
   "metadata": {},
   "outputs": [],
   "source": [
    "from sklearn.model_selection import GridSearchCV\n",
    "\n",
    "parameter_space = {\n",
    "    \"max_features\": [2, 10, 'auto'],\n",
    "    \"n_estimators\": [100, 200],\n",
    "    \"criterion\": [\"gini\", \"entropy\"],\n",
    "    \"min_samples_leaf\": [2,4,6],\n",
    "}\n",
    "\n",
    "clf = RandomForestClassifier(random_state = 14)\n",
    "grid = GridSearchCV(clf, parameter_space)\n",
    "grid.fit(x_all, y_true)\n",
    "print(\"Accuracy: {0:.1f}%\".format(grid.best_score_ * 100))"
   ]
  },
  {
   "cell_type": "code",
   "execution_count": null,
   "metadata": {},
   "outputs": [],
   "source": [
    "print(grid.best_estimator_)"
   ]
  },
  {
   "cell_type": "markdown",
   "metadata": {},
   "source": [
    "RandomForestClassifier(bootstrap=True, class_weight=None, criterion=\"entropy\", max_depth=None, max_features=2, max_leaf_nodes=None, min_samples_leaf=2, min_samples_split=2, min_weight_fraction_leaf=0.0, n_estimators=100, n_jobs=1, oob_score=False, random_state=14, verbose=0, warm_start=False)"
   ]
  }
 ],
 "metadata": {
  "kernelspec": {
   "display_name": "Python 3",
   "language": "python",
   "name": "python3"
  },
  "language_info": {
   "codemirror_mode": {
    "name": "ipython",
    "version": 3
   },
   "file_extension": ".py",
   "mimetype": "text/x-python",
   "name": "python",
   "nbconvert_exporter": "python",
   "pygments_lexer": "ipython3",
   "version": "3.6.3"
  }
 },
 "nbformat": 4,
 "nbformat_minor": 2
}

{
 "cells": [
  {
   "cell_type": "markdown",
   "metadata": {},
   "source": [
    "# Data Mining CS 619, Spring 2018 - Eleonora Renz\n",
    "\n",
    "### Week 6 - Chapter 6\n",
    "\n",
    "## Social Media Insight using Naive Bayes - ch6_get_twitter\n",
    "\n",
    "In this chapter, we will look at disambiguating the use of the term Python on Twitter's\n",
    "stream.<br>\n",
    "There can be many things called Python. The aim of our experiment is to take a tweet\n",
    "mentioning Python and determine whether it is talking about the programming language,\n",
    "based only on the content of the tweet.\n",
    "\n",
    "#### Downlading data from a social network"
   ]
  },
  {
   "cell_type": "code",
   "execution_count": 1,
   "metadata": {
    "collapsed": true
   },
   "outputs": [],
   "source": [
    "import twitter\n",
    "\n",
    "consumer_key = \"fjWS8WLO6iR6ZSi22lCt0XwJO\"\n",
    "consumer_secret = \"3dQXyQdcM21vpDklxqnYPpCFMGsdJZnEI0xG6u5jp9J6fU7cSY\"\n",
    "access_token = \"840475426162110464-dR342dwz0THqN4aI01nBCkGQ9aOJc0e\"\n",
    "access_token_secret = \"UByuQL9sTe7UhoNwqtnlJFZ75cFxsJJOmYgqYoTyoBaVv\"\n",
    "authorization = twitter.OAuth(access_token, access_token_secret, consumer_key, consumer_secret)"
   ]
  },
  {
   "cell_type": "code",
   "execution_count": 2,
   "metadata": {
    "collapsed": true
   },
   "outputs": [],
   "source": [
    "import os\n",
    "\n",
    "output_filename = os.path.join(os.path.expanduser(\"~\"), \"Desktop\", \"DataMining_Spring2018\", \"Data\", \"twitter\", \"python_tweets.json\")"
   ]
  },
  {
   "cell_type": "code",
   "execution_count": 3,
   "metadata": {
    "collapsed": true
   },
   "outputs": [],
   "source": [
    "# Create an object that can read from Twitter\n",
    "t = twitter.Twitter(auth=authorization)"
   ]
  },
  {
   "cell_type": "code",
   "execution_count": 4,
   "metadata": {},
   "outputs": [
    {
     "name": "stdout",
     "output_type": "stream",
     "text": [
      "Saved 72 entries\n"
     ]
    }
   ],
   "source": [
    "import json\n",
    "\n",
    "n_output = 0\n",
    "\n",
    "with open(output_filename, 'a') as output_file:\n",
    "    search_results = t.search.tweets(q=\"python\", count=100)['statuses']\n",
    "    for tweet in search_results:\n",
    "        if 'text' in tweet:\n",
    "            output_file.write(json.dumps(tweet))\n",
    "            output_file.write(\"\\n\\n\")\n",
    "            n_output += 1\n",
    "\n",
    "print(\"Saved {} entries\".format(n_output))"
   ]
  },
  {
   "cell_type": "markdown",
   "metadata": {},
   "source": [
    "In the preceding loop, we also perform a check to see whether there is text in the tweet or\n",
    "not. Not all of the objects returned by twitter will be actual tweets (for example, some\n",
    "responses will be actions to delete tweets). The key difference is the inclusion of text as a\n",
    "key, which we test for. Running this for a few minutes will result in 100 tweets being added\n",
    "to the output file."
   ]
  }
 ],
 "metadata": {
  "kernelspec": {
   "display_name": "Python 3",
   "language": "python",
   "name": "python3"
  },
  "language_info": {
   "codemirror_mode": {
    "name": "ipython",
    "version": 3
   },
   "file_extension": ".py",
   "mimetype": "text/x-python",
   "name": "python",
   "nbconvert_exporter": "python",
   "pygments_lexer": "ipython3",
   "version": "3.6.3"
  }
 },
 "nbformat": 4,
 "nbformat_minor": 2
}

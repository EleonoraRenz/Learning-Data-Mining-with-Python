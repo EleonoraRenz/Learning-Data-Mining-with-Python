{
 "cells": [
  {
   "cell_type": "markdown",
   "metadata": {},
   "source": [
    "# Data Mining CS 619, Spring 2018 - Eleonora Renz\n",
    "\n",
    "### Week 6 - Chapter 6\n",
    "\n",
    "## Social Media Insight using Naive Bayes - <br> ch6_extracting-word-counts\n",
    "\n",
    "#### Extracting word counts"
   ]
  },
  {
   "cell_type": "code",
   "execution_count": 1,
   "metadata": {
    "collapsed": true
   },
   "outputs": [],
   "source": [
    "import spacy\n",
    "import numpy as np\n",
    "from sklearn.base import TransformerMixin\n",
    "\n",
    "# Create a spaCy parser\n",
    "nlp = spacy.load('en_core_web_sm') # Download successful but linking failed, so called by its full name\n",
    "\n",
    "class BagOfWords(TransformerMixin):\n",
    "    def fit(self, X, y=None):\n",
    "        return self\n",
    "    \n",
    "    def transform(self, X):\n",
    "        results = []\n",
    "        for document in X:\n",
    "            row = {}\n",
    "            for word in list(nlp(document)):\n",
    "                if len(word.text.strip()):\n",
    "                    row[word.text] = True\n",
    "            results.append(row)\n",
    "        return results"
   ]
  },
  {
   "cell_type": "markdown",
   "metadata": {},
   "source": [
    "#### Putting it all together"
   ]
  },
  {
   "cell_type": "code",
   "execution_count": 2,
   "metadata": {
    "collapsed": true
   },
   "outputs": [],
   "source": [
    "from sklearn.feature_extraction import DictVectorizer\n",
    "from sklearn.naive_bayes import BernoulliNB\n",
    "import os\n",
    "\n",
    "input_filename = os.path.join(os.path.expanduser(\"~\"), \"Desktop\", \"DataMining_Spring2018\", \"Data\", \"twitter\", \"python_tweets.json\")\n",
    "labels_filename = os.path.join(os.path.expanduser(\"~\"), \"Desktop\", \"DataMining_Spring2018\", \"Data\", \"twitter\", \"python_classes.json\")"
   ]
  },
  {
   "cell_type": "code",
   "execution_count": 3,
   "metadata": {
    "collapsed": true
   },
   "outputs": [],
   "source": [
    "import json\n",
    "\n",
    "tweets = []\n",
    "with open(input_filename) as inf:\n",
    "    for line in inf:\n",
    "        if len(line.strip()) == 0: continue\n",
    "        tweets.append(json.loads(line)['text'])\n",
    "\n",
    "with open(labels_filename) as inf:\n",
    "    labels = json.load(inf)\n",
    "\n",
    "# Ensure only classified tweets are loaded\n",
    "tweets = tweets[:len(labels)]\n",
    "assert len(tweets) == len(labels)"
   ]
  },
  {
   "cell_type": "code",
   "execution_count": 4,
   "metadata": {
    "collapsed": true
   },
   "outputs": [],
   "source": [
    "from sklearn.pipeline import Pipeline\n",
    "\n",
    "pipeline = Pipeline([('bag-of-words', BagOfWords()), ('vectorizer', DictVectorizer()), ('naive-bayes', BernoulliNB()) ])"
   ]
  },
  {
   "cell_type": "markdown",
   "metadata": {},
   "source": [
    "#### Evaluating using F1-score\n",
    "\n",
    "The F1-score is defined on a per-class basis and is based on two concepts:\n",
    "the precision and recall. The precision is the percentage of all the samples\n",
    "that were predicted as belonging to a specific class, that were actually\n",
    "from that class. The recall is the percentage of samples in the dataset that\n",
    "are in a class and actually labeled as belonging to that class."
   ]
  },
  {
   "cell_type": "code",
   "execution_count": 5,
   "metadata": {
    "collapsed": true
   },
   "outputs": [],
   "source": [
    "from sklearn.model_selection import cross_val_score\n",
    "\n",
    "scores = cross_val_score(pipeline, tweets, labels, scoring='f1')"
   ]
  },
  {
   "cell_type": "markdown",
   "metadata": {},
   "source": [
    "#### Getting useful features from models"
   ]
  },
  {
   "cell_type": "code",
   "execution_count": 6,
   "metadata": {
    "collapsed": true
   },
   "outputs": [],
   "source": [
    "model = pipeline.fit(tweets, labels)\n",
    "\n",
    "nb = model.named_steps['naive-bayes']\n",
    "feature_probabilities = nb.feature_log_prob_\n",
    "\n",
    "top_features = np.argsort(-nb.feature_log_prob_[1])[:50]\n",
    "\n",
    "dv = model.named_steps['vectorizer']"
   ]
  },
  {
   "cell_type": "code",
   "execution_count": 7,
   "metadata": {},
   "outputs": [
    {
     "name": "stdout",
     "output_type": "stream",
     "text": [
      "0 : 0.853658536585\n",
      "1 RT 0.682926829268\n",
      "2 Python 0.536585365854\n",
      "3 … 0.487804878049\n",
      "4 # 0.463414634146\n",
      "5 to 0.292682926829\n",
      "6 in 0.268292682927\n",
      "7 , 0.268292682927\n",
      "8 a 0.268292682927\n",
      "9 the 0.219512195122\n",
      "10 and 0.219512195122\n",
      "11 . 0.219512195122\n",
      "12 Programming 0.19512195122\n",
      "13 of 0.170731707317\n",
      "14 from 0.146341463415\n",
      "15 & 0.121951219512\n",
      "16 for 0.121951219512\n",
      "17 Machine 0.121951219512\n",
      "18 Data 0.121951219512\n",
      "19 using 0.121951219512\n",
      "20 ; 0.121951219512\n",
      "21 amp 0.121951219512\n",
      "22 programming 0.121951219512\n",
      "23 ) 0.121951219512\n",
      "24 ( 0.121951219512\n",
      "25 Media 0.0975609756098\n",
      "26 ! 0.0975609756098\n",
      "27 DeepLearning 0.0975609756098\n",
      "28 learning 0.0975609756098\n",
      "29 @kid_OYO 0.0975609756098\n",
      "30 Financial 0.0975609756098\n",
      "31 marketing 0.0975609756098\n",
      "32 https://t.co/Wecxebz0B1 0.0975609756098\n",
      "33 Creative 0.0975609756098\n",
      "34 modeling 0.0975609756098\n",
      "35 python 0.0975609756098\n",
      "36 @zainabSULE 0.0975609756098\n",
      "37 Business 0.0975609756098\n",
      "38 on 0.0975609756098\n",
      "39 Go 0.0975609756098\n",
      "40 Analytics 0.0975609756098\n",
      "41 @MashableDeals 0.0975609756098\n",
      "42 .. 0.0975609756098\n",
      "43 writing 0.0975609756098\n",
      "44 course 0.0975609756098\n",
      "45 computer 0.0975609756098\n",
      "46 zero 0.0975609756098\n",
      "47 ☞ 0.0975609756098\n",
      "48 Social 0.0975609756098\n",
      "49 with 0.0975609756098\n"
     ]
    }
   ],
   "source": [
    "for i, feature_index in enumerate(top_features):\n",
    "    print(i, dv.feature_names_[feature_index],\n",
    "         np.exp(feature_probabilities[1][feature_index]))"
   ]
  },
  {
   "cell_type": "markdown",
   "metadata": {},
   "source": [
    "For week 7 we will store our model:"
   ]
  },
  {
   "cell_type": "code",
   "execution_count": 8,
   "metadata": {},
   "outputs": [
    {
     "data": {
      "text/plain": [
       "['C:\\\\Users\\\\Ellomarshmallow\\\\Desktop\\\\DataMining_Spring2018\\\\Models\\\\twitter\\\\python_context.pkl']"
      ]
     },
     "execution_count": 8,
     "metadata": {},
     "output_type": "execute_result"
    }
   ],
   "source": [
    "from sklearn.externals import joblib\n",
    "\n",
    "output_filename = os.path.join(os.path.expanduser(\"~\"), \"Desktop\", \"DataMining_Spring2018\", \"Models\", \"twitter\", \"python_context.pkl\")\n",
    "joblib.dump(model, output_filename)"
   ]
  }
 ],
 "metadata": {
  "kernelspec": {
   "display_name": "Python 3",
   "language": "python",
   "name": "python3"
  },
  "language_info": {
   "codemirror_mode": {
    "name": "ipython",
    "version": 3
   },
   "file_extension": ".py",
   "mimetype": "text/x-python",
   "name": "python",
   "nbconvert_exporter": "python",
   "pygments_lexer": "ipython3",
   "version": "3.6.3"
  }
 },
 "nbformat": 4,
 "nbformat_minor": 2
}
